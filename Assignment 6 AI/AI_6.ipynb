{
  "nbformat": 4,
  "nbformat_minor": 0,
  "metadata": {
    "colab": {
      "provenance": []
    },
    "kernelspec": {
      "name": "python3",
      "display_name": "Python 3"
    },
    "language_info": {
      "name": "python"
    }
  },
  "cells": [
    {
      "cell_type": "code",
      "execution_count": 32,
      "metadata": {
        "colab": {
          "base_uri": "https://localhost:8080/"
        },
        "id": "XLJ_efxekmBw",
        "outputId": "04348be0-c29f-47b3-c7bc-561e7e07150b"
      },
      "outputs": [
        {
          "output_type": "stream",
          "name": "stdout",
          "text": [
            "Looking in indexes: https://pypi.org/simple, https://us-python.pkg.dev/colab-wheels/public/simple/\n",
            "Requirement already satisfied: tensorflow in /usr/local/lib/python3.9/dist-packages (2.12.0)\n",
            "Requirement already satisfied: tensorboard<2.13,>=2.12 in /usr/local/lib/python3.9/dist-packages (from tensorflow) (2.12.0)\n",
            "Requirement already satisfied: keras<2.13,>=2.12.0 in /usr/local/lib/python3.9/dist-packages (from tensorflow) (2.12.0)\n",
            "Requirement already satisfied: packaging in /usr/local/lib/python3.9/dist-packages (from tensorflow) (23.0)\n",
            "Requirement already satisfied: tensorflow-estimator<2.13,>=2.12.0 in /usr/local/lib/python3.9/dist-packages (from tensorflow) (2.12.0)\n",
            "Requirement already satisfied: absl-py>=1.0.0 in /usr/local/lib/python3.9/dist-packages (from tensorflow) (1.4.0)\n",
            "Requirement already satisfied: protobuf!=4.21.0,!=4.21.1,!=4.21.2,!=4.21.3,!=4.21.4,!=4.21.5,<5.0.0dev,>=3.20.3 in /usr/local/lib/python3.9/dist-packages (from tensorflow) (4.22.1)\n",
            "Requirement already satisfied: grpcio<2.0,>=1.24.3 in /usr/local/lib/python3.9/dist-packages (from tensorflow) (1.51.3)\n",
            "Requirement already satisfied: astunparse>=1.6.0 in /usr/local/lib/python3.9/dist-packages (from tensorflow) (1.6.3)\n",
            "Requirement already satisfied: setuptools in /usr/local/lib/python3.9/dist-packages (from tensorflow) (67.6.0)\n",
            "Requirement already satisfied: google-pasta>=0.1.1 in /usr/local/lib/python3.9/dist-packages (from tensorflow) (0.2.0)\n",
            "Requirement already satisfied: numpy<1.24,>=1.22 in /usr/local/lib/python3.9/dist-packages (from tensorflow) (1.22.4)\n",
            "Requirement already satisfied: termcolor>=1.1.0 in /usr/local/lib/python3.9/dist-packages (from tensorflow) (2.2.0)\n",
            "Requirement already satisfied: jax>=0.3.15 in /usr/local/lib/python3.9/dist-packages (from tensorflow) (0.4.6)\n",
            "Requirement already satisfied: six>=1.12.0 in /usr/local/lib/python3.9/dist-packages (from tensorflow) (1.16.0)\n",
            "Requirement already satisfied: tensorflow-io-gcs-filesystem>=0.23.1 in /usr/local/lib/python3.9/dist-packages (from tensorflow) (0.31.0)\n",
            "Requirement already satisfied: wrapt<1.15,>=1.11.0 in /usr/local/lib/python3.9/dist-packages (from tensorflow) (1.14.1)\n",
            "Requirement already satisfied: opt-einsum>=2.3.2 in /usr/local/lib/python3.9/dist-packages (from tensorflow) (3.3.0)\n",
            "Requirement already satisfied: libclang>=13.0.0 in /usr/local/lib/python3.9/dist-packages (from tensorflow) (15.0.6.1)\n",
            "Requirement already satisfied: typing-extensions>=3.6.6 in /usr/local/lib/python3.9/dist-packages (from tensorflow) (4.5.0)\n",
            "Requirement already satisfied: gast<=0.4.0,>=0.2.1 in /usr/local/lib/python3.9/dist-packages (from tensorflow) (0.4.0)\n",
            "Requirement already satisfied: flatbuffers>=2.0 in /usr/local/lib/python3.9/dist-packages (from tensorflow) (23.3.3)\n",
            "Requirement already satisfied: h5py>=2.9.0 in /usr/local/lib/python3.9/dist-packages (from tensorflow) (3.8.0)\n",
            "Requirement already satisfied: wheel<1.0,>=0.23.0 in /usr/local/lib/python3.9/dist-packages (from astunparse>=1.6.0->tensorflow) (0.40.0)\n",
            "Requirement already satisfied: scipy>=1.5 in /usr/local/lib/python3.9/dist-packages (from jax>=0.3.15->tensorflow) (1.10.1)\n",
            "Requirement already satisfied: werkzeug>=1.0.1 in /usr/local/lib/python3.9/dist-packages (from tensorboard<2.13,>=2.12->tensorflow) (2.2.3)\n",
            "Requirement already satisfied: markdown>=2.6.8 in /usr/local/lib/python3.9/dist-packages (from tensorboard<2.13,>=2.12->tensorflow) (3.4.1)\n",
            "Requirement already satisfied: google-auth<3,>=1.6.3 in /usr/local/lib/python3.9/dist-packages (from tensorboard<2.13,>=2.12->tensorflow) (2.16.2)\n",
            "Requirement already satisfied: tensorboard-data-server<0.8.0,>=0.7.0 in /usr/local/lib/python3.9/dist-packages (from tensorboard<2.13,>=2.12->tensorflow) (0.7.0)\n",
            "Requirement already satisfied: requests<3,>=2.21.0 in /usr/local/lib/python3.9/dist-packages (from tensorboard<2.13,>=2.12->tensorflow) (2.27.1)\n",
            "Requirement already satisfied: tensorboard-plugin-wit>=1.6.0 in /usr/local/lib/python3.9/dist-packages (from tensorboard<2.13,>=2.12->tensorflow) (1.8.1)\n",
            "Requirement already satisfied: google-auth-oauthlib<0.5,>=0.4.1 in /usr/local/lib/python3.9/dist-packages (from tensorboard<2.13,>=2.12->tensorflow) (0.4.6)\n",
            "Requirement already satisfied: rsa<5,>=3.1.4 in /usr/local/lib/python3.9/dist-packages (from google-auth<3,>=1.6.3->tensorboard<2.13,>=2.12->tensorflow) (4.9)\n",
            "Requirement already satisfied: cachetools<6.0,>=2.0.0 in /usr/local/lib/python3.9/dist-packages (from google-auth<3,>=1.6.3->tensorboard<2.13,>=2.12->tensorflow) (5.3.0)\n",
            "Requirement already satisfied: pyasn1-modules>=0.2.1 in /usr/local/lib/python3.9/dist-packages (from google-auth<3,>=1.6.3->tensorboard<2.13,>=2.12->tensorflow) (0.2.8)\n",
            "Requirement already satisfied: requests-oauthlib>=0.7.0 in /usr/local/lib/python3.9/dist-packages (from google-auth-oauthlib<0.5,>=0.4.1->tensorboard<2.13,>=2.12->tensorflow) (1.3.1)\n",
            "Requirement already satisfied: importlib-metadata>=4.4 in /usr/local/lib/python3.9/dist-packages (from markdown>=2.6.8->tensorboard<2.13,>=2.12->tensorflow) (6.1.0)\n",
            "Requirement already satisfied: idna<4,>=2.5 in /usr/local/lib/python3.9/dist-packages (from requests<3,>=2.21.0->tensorboard<2.13,>=2.12->tensorflow) (3.4)\n",
            "Requirement already satisfied: urllib3<1.27,>=1.21.1 in /usr/local/lib/python3.9/dist-packages (from requests<3,>=2.21.0->tensorboard<2.13,>=2.12->tensorflow) (1.26.15)\n",
            "Requirement already satisfied: charset-normalizer~=2.0.0 in /usr/local/lib/python3.9/dist-packages (from requests<3,>=2.21.0->tensorboard<2.13,>=2.12->tensorflow) (2.0.12)\n",
            "Requirement already satisfied: certifi>=2017.4.17 in /usr/local/lib/python3.9/dist-packages (from requests<3,>=2.21.0->tensorboard<2.13,>=2.12->tensorflow) (2022.12.7)\n",
            "Requirement already satisfied: MarkupSafe>=2.1.1 in /usr/local/lib/python3.9/dist-packages (from werkzeug>=1.0.1->tensorboard<2.13,>=2.12->tensorflow) (2.1.2)\n",
            "Requirement already satisfied: zipp>=0.5 in /usr/local/lib/python3.9/dist-packages (from importlib-metadata>=4.4->markdown>=2.6.8->tensorboard<2.13,>=2.12->tensorflow) (3.15.0)\n",
            "Requirement already satisfied: pyasn1<0.5.0,>=0.4.6 in /usr/local/lib/python3.9/dist-packages (from pyasn1-modules>=0.2.1->google-auth<3,>=1.6.3->tensorboard<2.13,>=2.12->tensorflow) (0.4.8)\n",
            "Requirement already satisfied: oauthlib>=3.0.0 in /usr/local/lib/python3.9/dist-packages (from requests-oauthlib>=0.7.0->google-auth-oauthlib<0.5,>=0.4.1->tensorboard<2.13,>=2.12->tensorflow) (3.2.2)\n"
          ]
        }
      ],
      "source": [
        "!pip install --upgrade tensorflow"
      ]
    },
    {
      "cell_type": "code",
      "source": [
        "from tensorflow.keras.datasets import mnist \n",
        "from tensorflow import keras\n",
        "from tensorflow.keras.layers import Dense\n",
        "import numpy as np\n",
        "from tensorflow.keras import layers"
      ],
      "metadata": {
        "id": "NrUx0cwkkt4_"
      },
      "execution_count": 33,
      "outputs": []
    },
    {
      "cell_type": "code",
      "source": [
        "(train_images, train_labels), _ = mnist.load_data()\n",
        "train_images = train_images.reshape((60000, 28 * 28))\n",
        "train_images = train_images.astype(\"float32\") / 255 \n",
        "  \n",
        "random_train_labels = train_labels[:]\n",
        "np.random.shuffle(random_train_labels)\n",
        "def get_model():\n",
        "    model = keras.Sequential([\n",
        "        layers.Dense(512, activation=\"relu\"),\n",
        "        layers.Dense(10, activation=\"softmax\")\n",
        "    ])\n",
        "    model.compile(optimizer=\"rmsprop\",\n",
        "                  loss=\"sparse_categorical_crossentropy\",\n",
        "                  metrics=[\"accuracy\"])\n",
        "    return model\n",
        "    \n",
        "model=get_model()\n",
        "model.fit(train_images, random_train_labels,\n",
        "          epochs=10,\n",
        "          batch_size=128,\n",
        "          validation_split=0.2)"
      ],
      "metadata": {
        "colab": {
          "base_uri": "https://localhost:8080/"
        },
        "id": "oubIvG9_lDuV",
        "outputId": "433ae044-a8f5-4da0-fced-e98ce5d61e21"
      },
      "execution_count": 34,
      "outputs": [
        {
          "output_type": "stream",
          "name": "stdout",
          "text": [
            "Epoch 1/10\n",
            "375/375 [==============================] - 5s 12ms/step - loss: 2.3152 - accuracy: 0.1021 - val_loss: 2.3052 - val_accuracy: 0.1000\n",
            "Epoch 2/10\n",
            "375/375 [==============================] - 6s 16ms/step - loss: 2.2990 - accuracy: 0.1164 - val_loss: 2.3119 - val_accuracy: 0.1035\n",
            "Epoch 3/10\n",
            "375/375 [==============================] - 6s 16ms/step - loss: 2.2905 - accuracy: 0.1267 - val_loss: 2.3198 - val_accuracy: 0.0989\n",
            "Epoch 4/10\n",
            "375/375 [==============================] - 3s 9ms/step - loss: 2.2796 - accuracy: 0.1372 - val_loss: 2.3255 - val_accuracy: 0.1042\n",
            "Epoch 5/10\n",
            "375/375 [==============================] - 3s 9ms/step - loss: 2.2646 - accuracy: 0.1501 - val_loss: 2.3329 - val_accuracy: 0.1042\n",
            "Epoch 6/10\n",
            "375/375 [==============================] - 4s 12ms/step - loss: 2.2430 - accuracy: 0.1666 - val_loss: 2.3478 - val_accuracy: 0.0967\n",
            "Epoch 7/10\n",
            "375/375 [==============================] - 3s 8ms/step - loss: 2.2211 - accuracy: 0.1797 - val_loss: 2.3753 - val_accuracy: 0.0993\n",
            "Epoch 8/10\n",
            "375/375 [==============================] - 3s 8ms/step - loss: 2.1960 - accuracy: 0.1950 - val_loss: 2.3713 - val_accuracy: 0.1005\n",
            "Epoch 9/10\n",
            "375/375 [==============================] - 3s 8ms/step - loss: 2.1658 - accuracy: 0.2109 - val_loss: 2.4024 - val_accuracy: 0.1001\n",
            "Epoch 10/10\n",
            "375/375 [==============================] - 4s 11ms/step - loss: 2.1331 - accuracy: 0.2269 - val_loss: 2.4298 - val_accuracy: 0.0972\n"
          ]
        },
        {
          "output_type": "execute_result",
          "data": {
            "text/plain": [
              "<keras.callbacks.History at 0x7f9ac897c6d0>"
            ]
          },
          "metadata": {},
          "execution_count": 34
        }
      ]
    },
    {
      "cell_type": "code",
      "source": [
        "(train_images, train_labels), _ = mnist.load_data()\n",
        "train_images = train_images.reshape((60000, 28 * 28))\n",
        "train_images = train_images.astype(\"float32\") / 255 \n",
        "  \n",
        "model = keras.Sequential([\n",
        "    layers.Dense(512, activation=\"relu\"),\n",
        "    layers.Dense(10, activation=\"softmax\")\n",
        "])\n",
        "model.compile(optimizer=keras.optimizers.RMSprop(1.),\n",
        "              loss=\"sparse_categorical_crossentropy\",\n",
        "              metrics=[\"accuracy\"])\n",
        "model.fit(train_images, train_labels,\n",
        "          epochs=10,\n",
        "          batch_size=128,\n",
        "          validation_split=0.2)"
      ],
      "metadata": {
        "colab": {
          "base_uri": "https://localhost:8080/"
        },
        "id": "WPIjBCuwm1ix",
        "outputId": "6324088a-715b-48b0-c5db-4f7654095046"
      },
      "execution_count": 35,
      "outputs": [
        {
          "output_type": "stream",
          "name": "stdout",
          "text": [
            "Epoch 1/10\n",
            "375/375 [==============================] - 5s 13ms/step - loss: 787.0775 - accuracy: 0.2892 - val_loss: 2.3692 - val_accuracy: 0.1635\n",
            "Epoch 2/10\n",
            "375/375 [==============================] - 6s 17ms/step - loss: 2.5708 - accuracy: 0.1665 - val_loss: 3.2587 - val_accuracy: 0.2140\n",
            "Epoch 3/10\n",
            "375/375 [==============================] - 5s 14ms/step - loss: 2.3525 - accuracy: 0.1653 - val_loss: 2.2881 - val_accuracy: 0.1617\n",
            "Epoch 4/10\n",
            "375/375 [==============================] - 3s 8ms/step - loss: 2.4605 - accuracy: 0.1494 - val_loss: 2.5797 - val_accuracy: 0.1492\n",
            "Epoch 5/10\n",
            "375/375 [==============================] - 4s 9ms/step - loss: 2.4104 - accuracy: 0.1581 - val_loss: 2.2116 - val_accuracy: 0.1918\n",
            "Epoch 6/10\n",
            "375/375 [==============================] - 4s 11ms/step - loss: 2.3651 - accuracy: 0.1735 - val_loss: 31.2442 - val_accuracy: 0.1437\n",
            "Epoch 7/10\n",
            "375/375 [==============================] - 3s 8ms/step - loss: 2.4365 - accuracy: 0.1786 - val_loss: 2.2700 - val_accuracy: 0.1907\n",
            "Epoch 8/10\n",
            "375/375 [==============================] - 3s 8ms/step - loss: 2.3423 - accuracy: 0.1793 - val_loss: 2.2556 - val_accuracy: 0.1945\n",
            "Epoch 9/10\n",
            "375/375 [==============================] - 3s 9ms/step - loss: 2.3076 - accuracy: 0.1844 - val_loss: 2.3191 - val_accuracy: 0.1869\n",
            "Epoch 10/10\n",
            "375/375 [==============================] - 4s 11ms/step - loss: 2.2993 - accuracy: 0.1849 - val_loss: 2.3268 - val_accuracy: 0.1913\n"
          ]
        },
        {
          "output_type": "execute_result",
          "data": {
            "text/plain": [
              "<keras.callbacks.History at 0x7f9acb6ad700>"
            ]
          },
          "metadata": {},
          "execution_count": 35
        }
      ]
    },
    {
      "cell_type": "code",
      "source": [
        "model = keras.Sequential([\n",
        "    layers.Dense(512, activation=\"relu\"),\n",
        "    layers.Dense(10, activation=\"softmax\")\n",
        "])\n",
        "model.compile(optimizer=keras.optimizers.RMSprop(1e-2),\n",
        "              loss=\"sparse_categorical_crossentropy\",\n",
        "              metrics=[\"accuracy\"])\n",
        "model.fit(train_images, train_labels,\n",
        "          epochs=10,\n",
        "          batch_size=128,\n",
        "          validation_split=0.2)"
      ],
      "metadata": {
        "colab": {
          "base_uri": "https://localhost:8080/"
        },
        "id": "gYBTjLh_-Mia",
        "outputId": "8681346c-48a6-4615-badf-ff89cf43a629"
      },
      "execution_count": 36,
      "outputs": [
        {
          "output_type": "stream",
          "name": "stdout",
          "text": [
            "Epoch 1/10\n",
            "375/375 [==============================] - 4s 9ms/step - loss: 0.3726 - accuracy: 0.9092 - val_loss: 0.1280 - val_accuracy: 0.9637\n",
            "Epoch 2/10\n",
            "375/375 [==============================] - 3s 8ms/step - loss: 0.1286 - accuracy: 0.9632 - val_loss: 0.1353 - val_accuracy: 0.9651\n",
            "Epoch 3/10\n",
            "375/375 [==============================] - 4s 10ms/step - loss: 0.0971 - accuracy: 0.9736 - val_loss: 0.1236 - val_accuracy: 0.9723\n",
            "Epoch 4/10\n",
            "375/375 [==============================] - 4s 11ms/step - loss: 0.0827 - accuracy: 0.9795 - val_loss: 0.1285 - val_accuracy: 0.9736\n",
            "Epoch 5/10\n",
            "375/375 [==============================] - 3s 8ms/step - loss: 0.0663 - accuracy: 0.9827 - val_loss: 0.1581 - val_accuracy: 0.9706\n",
            "Epoch 6/10\n",
            "375/375 [==============================] - 3s 8ms/step - loss: 0.0582 - accuracy: 0.9856 - val_loss: 0.1699 - val_accuracy: 0.9723\n",
            "Epoch 7/10\n",
            "375/375 [==============================] - 4s 10ms/step - loss: 0.0506 - accuracy: 0.9879 - val_loss: 0.1981 - val_accuracy: 0.9703\n",
            "Epoch 8/10\n",
            "375/375 [==============================] - 4s 10ms/step - loss: 0.0470 - accuracy: 0.9895 - val_loss: 0.1857 - val_accuracy: 0.9741\n",
            "Epoch 9/10\n",
            "375/375 [==============================] - 3s 8ms/step - loss: 0.0416 - accuracy: 0.9903 - val_loss: 0.2074 - val_accuracy: 0.9729\n",
            "Epoch 10/10\n",
            "375/375 [==============================] - 4s 10ms/step - loss: 0.0387 - accuracy: 0.9910 - val_loss: 0.2177 - val_accuracy: 0.9734\n"
          ]
        },
        {
          "output_type": "execute_result",
          "data": {
            "text/plain": [
              "<keras.callbacks.History at 0x7f9a63368760>"
            ]
          },
          "metadata": {},
          "execution_count": 36
        }
      ]
    },
    {
      "cell_type": "code",
      "source": [
        "model = keras.Sequential([layers.Dense(10, activation=\"softmax\")])\n",
        "model.compile(optimizer=\"rmsprop\",\n",
        "              loss=\"sparse_categorical_crossentropy\",\n",
        "              metrics=[\"accuracy\"])\n",
        "history_small_model = model.fit(\n",
        "    train_images, train_labels,\n",
        "    epochs=20,\n",
        "    batch_size=128,\n",
        "    validation_split=0.2)"
      ],
      "metadata": {
        "colab": {
          "base_uri": "https://localhost:8080/"
        },
        "id": "fgL7Gq73-Yre",
        "outputId": "bafc6da1-554c-4c2e-938f-d9854401c696"
      },
      "execution_count": 37,
      "outputs": [
        {
          "output_type": "stream",
          "name": "stdout",
          "text": [
            "Epoch 1/20\n",
            "375/375 [==============================] - 1s 3ms/step - loss: 0.6844 - accuracy: 0.8296 - val_loss: 0.3613 - val_accuracy: 0.9048\n",
            "Epoch 2/20\n",
            "375/375 [==============================] - 1s 2ms/step - loss: 0.3540 - accuracy: 0.9026 - val_loss: 0.3092 - val_accuracy: 0.9148\n",
            "Epoch 3/20\n",
            "375/375 [==============================] - 1s 2ms/step - loss: 0.3183 - accuracy: 0.9113 - val_loss: 0.2933 - val_accuracy: 0.9178\n",
            "Epoch 4/20\n",
            "375/375 [==============================] - 1s 2ms/step - loss: 0.3023 - accuracy: 0.9147 - val_loss: 0.2846 - val_accuracy: 0.9210\n",
            "Epoch 5/20\n",
            "375/375 [==============================] - 1s 2ms/step - loss: 0.2925 - accuracy: 0.9187 - val_loss: 0.2790 - val_accuracy: 0.9228\n",
            "Epoch 6/20\n",
            "375/375 [==============================] - 1s 2ms/step - loss: 0.2856 - accuracy: 0.9207 - val_loss: 0.2756 - val_accuracy: 0.9251\n",
            "Epoch 7/20\n",
            "375/375 [==============================] - 1s 2ms/step - loss: 0.2805 - accuracy: 0.9217 - val_loss: 0.2738 - val_accuracy: 0.9236\n",
            "Epoch 8/20\n",
            "375/375 [==============================] - 1s 2ms/step - loss: 0.2770 - accuracy: 0.9227 - val_loss: 0.2696 - val_accuracy: 0.9267\n",
            "Epoch 9/20\n",
            "375/375 [==============================] - 1s 2ms/step - loss: 0.2736 - accuracy: 0.9234 - val_loss: 0.2685 - val_accuracy: 0.9278\n",
            "Epoch 10/20\n",
            "375/375 [==============================] - 1s 3ms/step - loss: 0.2709 - accuracy: 0.9249 - val_loss: 0.2675 - val_accuracy: 0.9283\n",
            "Epoch 11/20\n",
            "375/375 [==============================] - 1s 3ms/step - loss: 0.2691 - accuracy: 0.9261 - val_loss: 0.2655 - val_accuracy: 0.9285\n",
            "Epoch 12/20\n",
            "375/375 [==============================] - 1s 3ms/step - loss: 0.2666 - accuracy: 0.9265 - val_loss: 0.2653 - val_accuracy: 0.9292\n",
            "Epoch 13/20\n",
            "375/375 [==============================] - 1s 3ms/step - loss: 0.2651 - accuracy: 0.9268 - val_loss: 0.2666 - val_accuracy: 0.9269\n",
            "Epoch 14/20\n",
            "375/375 [==============================] - 1s 2ms/step - loss: 0.2631 - accuracy: 0.9276 - val_loss: 0.2642 - val_accuracy: 0.9287\n",
            "Epoch 15/20\n",
            "375/375 [==============================] - 1s 2ms/step - loss: 0.2621 - accuracy: 0.9279 - val_loss: 0.2631 - val_accuracy: 0.9294\n",
            "Epoch 16/20\n",
            "375/375 [==============================] - 1s 2ms/step - loss: 0.2604 - accuracy: 0.9282 - val_loss: 0.2637 - val_accuracy: 0.9287\n",
            "Epoch 17/20\n",
            "375/375 [==============================] - 1s 2ms/step - loss: 0.2596 - accuracy: 0.9289 - val_loss: 0.2625 - val_accuracy: 0.9310\n",
            "Epoch 18/20\n",
            "375/375 [==============================] - 1s 2ms/step - loss: 0.2583 - accuracy: 0.9291 - val_loss: 0.2641 - val_accuracy: 0.9294\n",
            "Epoch 19/20\n",
            "375/375 [==============================] - 1s 2ms/step - loss: 0.2573 - accuracy: 0.9294 - val_loss: 0.2622 - val_accuracy: 0.9305\n",
            "Epoch 20/20\n",
            "375/375 [==============================] - 1s 2ms/step - loss: 0.2561 - accuracy: 0.9298 - val_loss: 0.2623 - val_accuracy: 0.9288\n"
          ]
        }
      ]
    },
    {
      "cell_type": "code",
      "source": [
        "import matplotlib.pyplot as plt\n",
        "val_loss = history_small_model.history[\"val_loss\"]\n",
        "epochs = range(1, 21)\n",
        "plt.plot(epochs, val_loss, \"b--\",\n",
        "         label=\"Validation loss\")\n",
        "plt.title(\"Effect of insufficient model capacity on validation loss\")\n",
        "plt.xlabel(\"Epochs\")\n",
        "plt.ylabel(\"Loss\")\n",
        "plt.legend()"
      ],
      "metadata": {
        "colab": {
          "base_uri": "https://localhost:8080/",
          "height": 313
        },
        "id": "J4LK1i3E-fF5",
        "outputId": "c287c755-e2b4-466f-e7f6-975cec7bda93"
      },
      "execution_count": 38,
      "outputs": [
        {
          "output_type": "execute_result",
          "data": {
            "text/plain": [
              "<matplotlib.legend.Legend at 0x7f9ac8e88a00>"
            ]
          },
          "metadata": {},
          "execution_count": 38
        },
        {
          "output_type": "display_data",
          "data": {
            "text/plain": [
              "<Figure size 432x288 with 1 Axes>"
            ],
            "image/png": "[encoded data removed]"
          },
          "metadata": {
            "needs_background": "light"
          }
        }
      ]
    },
    {
      "cell_type": "code",
      "source": [
        "model = keras.Sequential([\n",
        "    layers.Dense(96, activation=\"relu\"),\n",
        "    layers.Dense(96, activation=\"relu\"),\n",
        "    layers.Dense(10, activation=\"softmax\"),\n",
        "])\n",
        "model.compile(optimizer=\"rmsprop\",\n",
        "              loss=\"sparse_categorical_crossentropy\",\n",
        "              metrics=[\"accuracy\"])\n",
        "history_large_model = model.fit(\n",
        "    train_images, train_labels,\n",
        "    epochs=20,\n",
        "    batch_size=128,\n",
        "    validation_split=0.2)"
      ],
      "metadata": {
        "colab": {
          "base_uri": "https://localhost:8080/"
        },
        "id": "pFgrx53Q-kbD",
        "outputId": "8309e040-d074-4b7f-cb3d-d1340894ec19"
      },
      "execution_count": 39,
      "outputs": [
        {
          "output_type": "stream",
          "name": "stdout",
          "text": [
            "Epoch 1/20\n",
            "375/375 [==============================] - 2s 4ms/step - loss: 0.3812 - accuracy: 0.8916 - val_loss: 0.2088 - val_accuracy: 0.9413\n",
            "Epoch 2/20\n",
            "375/375 [==============================] - 2s 4ms/step - loss: 0.1749 - accuracy: 0.9484 - val_loss: 0.1473 - val_accuracy: 0.9566\n",
            "Epoch 3/20\n",
            "375/375 [==============================] - 2s 5ms/step - loss: 0.1232 - accuracy: 0.9628 - val_loss: 0.1155 - val_accuracy: 0.9658\n",
            "Epoch 4/20\n",
            "375/375 [==============================] - 2s 5ms/step - loss: 0.0948 - accuracy: 0.9718 - val_loss: 0.1029 - val_accuracy: 0.9696\n",
            "Epoch 5/20\n",
            "375/375 [==============================] - 2s 4ms/step - loss: 0.0753 - accuracy: 0.9774 - val_loss: 0.1038 - val_accuracy: 0.9697\n",
            "Epoch 6/20\n",
            "375/375 [==============================] - 1s 4ms/step - loss: 0.0622 - accuracy: 0.9809 - val_loss: 0.0947 - val_accuracy: 0.9712\n",
            "Epoch 7/20\n",
            "375/375 [==============================] - 1s 4ms/step - loss: 0.0522 - accuracy: 0.9845 - val_loss: 0.0911 - val_accuracy: 0.9728\n",
            "Epoch 8/20\n",
            "375/375 [==============================] - 1s 4ms/step - loss: 0.0434 - accuracy: 0.9863 - val_loss: 0.0921 - val_accuracy: 0.9728\n",
            "Epoch 9/20\n",
            "375/375 [==============================] - 2s 4ms/step - loss: 0.0360 - accuracy: 0.9888 - val_loss: 0.0925 - val_accuracy: 0.9732\n",
            "Epoch 10/20\n",
            "375/375 [==============================] - 2s 4ms/step - loss: 0.0303 - accuracy: 0.9911 - val_loss: 0.1017 - val_accuracy: 0.9722\n",
            "Epoch 11/20\n",
            "375/375 [==============================] - 1s 4ms/step - loss: 0.0259 - accuracy: 0.9920 - val_loss: 0.0985 - val_accuracy: 0.9754\n",
            "Epoch 12/20\n",
            "375/375 [==============================] - 2s 5ms/step - loss: 0.0214 - accuracy: 0.9934 - val_loss: 0.1008 - val_accuracy: 0.9748\n",
            "Epoch 13/20\n",
            "375/375 [==============================] - 2s 5ms/step - loss: 0.0183 - accuracy: 0.9942 - val_loss: 0.0928 - val_accuracy: 0.9778\n",
            "Epoch 14/20\n",
            "375/375 [==============================] - 2s 5ms/step - loss: 0.0153 - accuracy: 0.9955 - val_loss: 0.0999 - val_accuracy: 0.9773\n",
            "Epoch 15/20\n",
            "375/375 [==============================] - 1s 4ms/step - loss: 0.0135 - accuracy: 0.9958 - val_loss: 0.1042 - val_accuracy: 0.9767\n",
            "Epoch 16/20\n",
            "375/375 [==============================] - 2s 4ms/step - loss: 0.0122 - accuracy: 0.9961 - val_loss: 0.1069 - val_accuracy: 0.9765\n",
            "Epoch 17/20\n",
            "375/375 [==============================] - 1s 4ms/step - loss: 0.0098 - accuracy: 0.9970 - val_loss: 0.1135 - val_accuracy: 0.9754\n",
            "Epoch 18/20\n",
            "375/375 [==============================] - 1s 3ms/step - loss: 0.0078 - accuracy: 0.9978 - val_loss: 0.1336 - val_accuracy: 0.9726\n",
            "Epoch 19/20\n",
            "375/375 [==============================] - 1s 4ms/step - loss: 0.0073 - accuracy: 0.9977 - val_loss: 0.1224 - val_accuracy: 0.9761\n",
            "Epoch 20/20\n",
            "375/375 [==============================] - 1s 4ms/step - loss: 0.0061 - accuracy: 0.9979 - val_loss: 0.1367 - val_accuracy: 0.9743\n"
          ]
        }
      ]
    },
    {
      "cell_type": "code",
      "source": [
        "import matplotlib.pyplot as plt\n",
        "val_loss = history_large_model.history[\"val_loss\"]\n",
        "epochs = range(1, 21)\n",
        "plt.plot(epochs, val_loss, \"b--\",\n",
        "         label=\"Validation loss\")\n",
        "# plt.title(\"Effect of insufficient model capacity on validation loss\")\n",
        "plt.xlabel(\"Epochs\")\n",
        "plt.ylabel(\"Loss\")\n",
        "plt.legend()"
      ],
      "metadata": {
        "colab": {
          "base_uri": "https://localhost:8080/",
          "height": 297
        },
        "id": "1D-0RBbw-q3R",
        "outputId": "77fb1af2-f041-4ec5-e8b7-af5e135b09b4"
      },
      "execution_count": 40,
      "outputs": [
        {
          "output_type": "execute_result",
          "data": {
            "text/plain": [
              "<matplotlib.legend.Legend at 0x7f9ac9344370>"
            ]
          },
          "metadata": {},
          "execution_count": 40
        },
        {
          "output_type": "display_data",
          "data": {
            "text/plain": [
              "<Figure size 432x288 with 1 Axes>"
            ],
            "image/png": "[encoded data removed]"
          },
          "metadata": {
            "needs_background": "light"
          }
        }
      ]
    },
    {
      "cell_type": "markdown",
      "source": [
        "Listing 5.10 Original model"
      ],
      "metadata": {
        "id": "9DbSDBro_AJP"
      }
    },
    {
      "cell_type": "code",
      "source": [
        "from tensorflow.keras.datasets import imdb\n",
        "(train_data, train_labels), _ = imdb.load_data(num_words=10000)\n",
        "  \n",
        "def vectorize_sequences(sequences, dimension=10000):\n",
        "    results = np.zeros((len(sequences), dimension))\n",
        "    for i, sequence in enumerate(sequences):\n",
        "        results[i, sequence] = 1. \n",
        "    return results\n",
        "train_data = vectorize_sequences(train_data)\n",
        "  \n",
        "model = keras.Sequential([\n",
        "    layers.Dense(16, activation=\"relu\"),\n",
        "    layers.Dense(16, activation=\"relu\"),\n",
        "    layers.Dense(1, activation=\"sigmoid\")\n",
        "])\n",
        "model.compile(optimizer=\"rmsprop\",\n",
        "              loss=\"binary_crossentropy\",\n",
        "              metrics=[\"accuracy\"])\n",
        "history_original = model.fit(train_data, train_labels,\n",
        "                             epochs=20, batch_size=512, validation_split=0.4)"
      ],
      "metadata": {
        "colab": {
          "base_uri": "https://localhost:8080/"
        },
        "id": "2tRTeGbY-_rk",
        "outputId": "ed725928-f27a-45a3-a743-aec4e9865815"
      },
      "execution_count": 41,
      "outputs": [
        {
          "output_type": "stream",
          "name": "stdout",
          "text": [
            "Epoch 1/20\n",
            "30/30 [==============================] - 2s 43ms/step - loss: 0.5348 - accuracy: 0.7577 - val_loss: 0.4029 - val_accuracy: 0.8541\n",
            "Epoch 2/20\n",
            "30/30 [==============================] - 1s 23ms/step - loss: 0.3228 - accuracy: 0.8939 - val_loss: 0.3079 - val_accuracy: 0.8899\n",
            "Epoch 3/20\n",
            "30/30 [==============================] - 1s 22ms/step - loss: 0.2406 - accuracy: 0.9229 - val_loss: 0.2817 - val_accuracy: 0.8925\n",
            "Epoch 4/20\n",
            "30/30 [==============================] - 1s 21ms/step - loss: 0.1923 - accuracy: 0.9363 - val_loss: 0.2752 - val_accuracy: 0.8905\n",
            "Epoch 5/20\n",
            "30/30 [==============================] - 1s 22ms/step - loss: 0.1607 - accuracy: 0.9489 - val_loss: 0.2785 - val_accuracy: 0.8905\n",
            "Epoch 6/20\n",
            "30/30 [==============================] - 1s 27ms/step - loss: 0.1334 - accuracy: 0.9591 - val_loss: 0.2874 - val_accuracy: 0.8876\n",
            "Epoch 7/20\n",
            "30/30 [==============================] - 1s 21ms/step - loss: 0.1187 - accuracy: 0.9633 - val_loss: 0.2970 - val_accuracy: 0.8875\n",
            "Epoch 8/20\n",
            "30/30 [==============================] - 1s 22ms/step - loss: 0.0987 - accuracy: 0.9710 - val_loss: 0.3426 - val_accuracy: 0.8764\n",
            "Epoch 9/20\n",
            "30/30 [==============================] - 1s 21ms/step - loss: 0.0810 - accuracy: 0.9779 - val_loss: 0.3324 - val_accuracy: 0.8817\n",
            "Epoch 10/20\n",
            "30/30 [==============================] - 1s 21ms/step - loss: 0.0716 - accuracy: 0.9805 - val_loss: 0.3562 - val_accuracy: 0.8798\n",
            "Epoch 11/20\n",
            "30/30 [==============================] - 1s 22ms/step - loss: 0.0607 - accuracy: 0.9853 - val_loss: 0.3694 - val_accuracy: 0.8784\n",
            "Epoch 12/20\n",
            "30/30 [==============================] - 1s 22ms/step - loss: 0.0520 - accuracy: 0.9883 - val_loss: 0.4068 - val_accuracy: 0.8745\n",
            "Epoch 13/20\n",
            "30/30 [==============================] - 1s 23ms/step - loss: 0.0464 - accuracy: 0.9892 - val_loss: 0.4311 - val_accuracy: 0.8730\n",
            "Epoch 14/20\n",
            "30/30 [==============================] - 1s 27ms/step - loss: 0.0343 - accuracy: 0.9939 - val_loss: 0.4343 - val_accuracy: 0.8752\n",
            "Epoch 15/20\n",
            "30/30 [==============================] - 1s 34ms/step - loss: 0.0309 - accuracy: 0.9942 - val_loss: 0.4581 - val_accuracy: 0.8738\n",
            "Epoch 16/20\n",
            "30/30 [==============================] - 1s 33ms/step - loss: 0.0254 - accuracy: 0.9958 - val_loss: 0.4920 - val_accuracy: 0.8708\n",
            "Epoch 17/20\n",
            "30/30 [==============================] - 1s 34ms/step - loss: 0.0215 - accuracy: 0.9971 - val_loss: 0.5117 - val_accuracy: 0.8703\n",
            "Epoch 18/20\n",
            "30/30 [==============================] - 1s 30ms/step - loss: 0.0185 - accuracy: 0.9976 - val_loss: 0.5301 - val_accuracy: 0.8709\n",
            "Epoch 19/20\n",
            "30/30 [==============================] - 1s 22ms/step - loss: 0.0167 - accuracy: 0.9973 - val_loss: 0.5569 - val_accuracy: 0.8709\n",
            "Epoch 20/20\n",
            "30/30 [==============================] - 1s 21ms/step - loss: 0.0123 - accuracy: 0.9983 - val_loss: 0.5717 - val_accuracy: 0.8687\n"
          ]
        }
      ]
    },
    {
      "cell_type": "code",
      "source": [
        "import matplotlib.pyplot as plt\n",
        "val_loss = history_original.history[\"val_loss\"]\n",
        "epochs = range(1, 21)\n",
        "plt.plot(epochs, val_loss, \"b--\",\n",
        "         label=\"Validation loss\")\n",
        "# plt.title(\"Effect of insufficient model capacity on validation loss\")\n",
        "plt.xlabel(\"Epochs\")\n",
        "plt.ylabel(\"Loss\")\n",
        "plt.legend()"
      ],
      "metadata": {
        "colab": {
          "base_uri": "https://localhost:8080/",
          "height": 297
        },
        "id": "5nzBm_WCBUG8",
        "outputId": "3ed79322-2406-49cd-8a48-fff067576605"
      },
      "execution_count": 42,
      "outputs": [
        {
          "output_type": "execute_result",
          "data": {
            "text/plain": [
              "<matplotlib.legend.Legend at 0x7f9acf853430>"
            ]
          },
          "metadata": {},
          "execution_count": 42
        },
        {
          "output_type": "display_data",
          "data": {
            "text/plain": [
              "<Figure size 432x288 with 1 Axes>"
            ],
            "image/png": "[encoded data removed]"
          },
          "metadata": {
            "needs_background": "light"
          }
        }
      ]
    },
    {
      "cell_type": "markdown",
      "source": [
        "Listing 5.11 Version of the model with lower capacity"
      ],
      "metadata": {
        "id": "l9kk4PsY_SiC"
      }
    },
    {
      "cell_type": "code",
      "source": [
        "model = keras.Sequential([\n",
        "    layers.Dense(4, activation=\"relu\"),\n",
        "    layers.Dense(4, activation=\"relu\"),\n",
        "    layers.Dense(1, activation=\"sigmoid\")\n",
        "])\n",
        "model.compile(optimizer=\"rmsprop\",\n",
        "              loss=\"binary_crossentropy\",\n",
        "              metrics=[\"accuracy\"])\n",
        "history_smaller_model = model.fit(\n",
        "    train_data, train_labels,\n",
        "    epochs=20, batch_size=512, validation_split=0.4)"
      ],
      "metadata": {
        "colab": {
          "base_uri": "https://localhost:8080/"
        },
        "id": "bU7Ox0ZS_UmE",
        "outputId": "8fe8f4eb-ac5a-4a27-9c88-9a15346e6665"
      },
      "execution_count": 43,
      "outputs": [
        {
          "output_type": "stream",
          "name": "stdout",
          "text": [
            "Epoch 1/20\n",
            "30/30 [==============================] - 2s 36ms/step - loss: 0.6374 - accuracy: 0.6510 - val_loss: 0.5897 - val_accuracy: 0.6957\n",
            "Epoch 2/20\n",
            "30/30 [==============================] - 1s 20ms/step - loss: 0.5573 - accuracy: 0.7801 - val_loss: 0.5404 - val_accuracy: 0.8017\n",
            "Epoch 3/20\n",
            "30/30 [==============================] - 1s 21ms/step - loss: 0.5078 - accuracy: 0.8365 - val_loss: 0.5208 - val_accuracy: 0.7536\n",
            "Epoch 4/20\n",
            "30/30 [==============================] - 1s 35ms/step - loss: 0.4689 - accuracy: 0.8691 - val_loss: 0.4783 - val_accuracy: 0.8433\n",
            "Epoch 5/20\n",
            "30/30 [==============================] - 1s 33ms/step - loss: 0.4303 - accuracy: 0.8987 - val_loss: 0.4482 - val_accuracy: 0.8717\n",
            "Epoch 6/20\n",
            "30/30 [==============================] - 1s 30ms/step - loss: 0.3882 - accuracy: 0.9205 - val_loss: 0.4132 - val_accuracy: 0.8736\n",
            "Epoch 7/20\n",
            "30/30 [==============================] - 1s 27ms/step - loss: 0.3431 - accuracy: 0.9332 - val_loss: 0.3816 - val_accuracy: 0.8737\n",
            "Epoch 8/20\n",
            "30/30 [==============================] - 1s 25ms/step - loss: 0.2998 - accuracy: 0.9427 - val_loss: 0.3502 - val_accuracy: 0.8788\n",
            "Epoch 9/20\n",
            "30/30 [==============================] - 1s 20ms/step - loss: 0.2612 - accuracy: 0.9485 - val_loss: 0.3224 - val_accuracy: 0.8924\n",
            "Epoch 10/20\n",
            "30/30 [==============================] - 1s 19ms/step - loss: 0.2296 - accuracy: 0.9511 - val_loss: 0.3049 - val_accuracy: 0.8919\n",
            "Epoch 11/20\n",
            "30/30 [==============================] - 1s 20ms/step - loss: 0.2042 - accuracy: 0.9551 - val_loss: 0.2934 - val_accuracy: 0.8898\n",
            "Epoch 12/20\n",
            "30/30 [==============================] - 1s 20ms/step - loss: 0.1842 - accuracy: 0.9572 - val_loss: 0.2878 - val_accuracy: 0.8880\n",
            "Epoch 13/20\n",
            "30/30 [==============================] - 1s 20ms/step - loss: 0.1666 - accuracy: 0.9609 - val_loss: 0.2882 - val_accuracy: 0.8866\n",
            "Epoch 14/20\n",
            "30/30 [==============================] - 1s 21ms/step - loss: 0.1518 - accuracy: 0.9643 - val_loss: 0.2818 - val_accuracy: 0.8917\n",
            "Epoch 15/20\n",
            "30/30 [==============================] - 1s 20ms/step - loss: 0.1393 - accuracy: 0.9671 - val_loss: 0.2827 - val_accuracy: 0.8885\n",
            "Epoch 16/20\n",
            "30/30 [==============================] - 1s 19ms/step - loss: 0.1285 - accuracy: 0.9689 - val_loss: 0.2855 - val_accuracy: 0.8899\n",
            "Epoch 17/20\n",
            "30/30 [==============================] - 1s 19ms/step - loss: 0.1183 - accuracy: 0.9719 - val_loss: 0.2890 - val_accuracy: 0.8884\n",
            "Epoch 18/20\n",
            "30/30 [==============================] - 1s 19ms/step - loss: 0.1097 - accuracy: 0.9747 - val_loss: 0.2920 - val_accuracy: 0.8861\n",
            "Epoch 19/20\n",
            "30/30 [==============================] - 1s 20ms/step - loss: 0.1016 - accuracy: 0.9776 - val_loss: 0.2973 - val_accuracy: 0.8845\n",
            "Epoch 20/20\n",
            "30/30 [==============================] - 1s 19ms/step - loss: 0.0945 - accuracy: 0.9791 - val_loss: 0.3028 - val_accuracy: 0.8844\n"
          ]
        }
      ]
    },
    {
      "cell_type": "code",
      "source": [
        "import matplotlib.pyplot as plt\n",
        "val_loss = history_smaller_model.history[\"val_loss\"]\n",
        "epochs = range(1, 21)\n",
        "plt.plot(epochs, val_loss, \"b--\",\n",
        "         label=\"Validation loss\")\n",
        "# plt.title(\"Effect of insufficient model capacity on validation loss\")\n",
        "plt.xlabel(\"Epochs\")\n",
        "plt.ylabel(\"Loss\")\n",
        "plt.legend()"
      ],
      "metadata": {
        "colab": {
          "base_uri": "https://localhost:8080/",
          "height": 298
        },
        "id": "4bZkM8AYBNnk",
        "outputId": "2fba6245-d246-47e6-c7e3-fe197a88db3b"
      },
      "execution_count": 44,
      "outputs": [
        {
          "output_type": "execute_result",
          "data": {
            "text/plain": [
              "<matplotlib.legend.Legend at 0x7f9acfad2a60>"
            ]
          },
          "metadata": {},
          "execution_count": 44
        },
        {
          "output_type": "display_data",
          "data": {
            "text/plain": [
              "<Figure size 432x288 with 1 Axes>"
            ],
            "image/png": "[encoded data removed]"
          },
          "metadata": {
            "needs_background": "light"
          }
        }
      ]
    },
    {
      "cell_type": "markdown",
      "source": [
        "Listing 5.12 Version of the model with higher capacity"
      ],
      "metadata": {
        "id": "jKztzBQw_ds5"
      }
    },
    {
      "cell_type": "code",
      "source": [
        "model = keras.Sequential([\n",
        "    layers.Dense(512, activation=\"relu\"),\n",
        "    layers.Dense(512, activation=\"relu\"),\n",
        "    layers.Dense(1, activation=\"sigmoid\")\n",
        "])\n",
        "model.compile(optimizer=\"rmsprop\",\n",
        "              loss=\"binary_crossentropy\",\n",
        "              metrics=[\"accuracy\"])\n",
        "history_larger_model = model.fit(\n",
        "    train_data, train_labels,\n",
        "    epochs=20, batch_size=512, validation_split=0.4)"
      ],
      "metadata": {
        "colab": {
          "base_uri": "https://localhost:8080/"
        },
        "id": "snpexxZa_eYZ",
        "outputId": "c1675c61-58d9-43df-b947-0e6db88fa65c"
      },
      "execution_count": 45,
      "outputs": [
        {
          "output_type": "stream",
          "name": "stdout",
          "text": [
            "Epoch 1/20\n",
            "30/30 [==============================] - 9s 279ms/step - loss: 0.5637 - accuracy: 0.7355 - val_loss: 0.3754 - val_accuracy: 0.8477\n",
            "Epoch 2/20\n",
            "30/30 [==============================] - 6s 215ms/step - loss: 0.3180 - accuracy: 0.8707 - val_loss: 0.3082 - val_accuracy: 0.8703\n",
            "Epoch 3/20\n",
            "30/30 [==============================] - 13s 443ms/step - loss: 0.2418 - accuracy: 0.9042 - val_loss: 0.4361 - val_accuracy: 0.8121\n",
            "Epoch 4/20\n",
            "30/30 [==============================] - 8s 273ms/step - loss: 0.1880 - accuracy: 0.9282 - val_loss: 0.2744 - val_accuracy: 0.8872\n",
            "Epoch 5/20\n",
            "30/30 [==============================] - 6s 218ms/step - loss: 0.1315 - accuracy: 0.9527 - val_loss: 0.3111 - val_accuracy: 0.8769\n",
            "Epoch 6/20\n",
            "30/30 [==============================] - 8s 274ms/step - loss: 0.1106 - accuracy: 0.9597 - val_loss: 0.4024 - val_accuracy: 0.8579\n",
            "Epoch 7/20\n",
            "30/30 [==============================] - 6s 217ms/step - loss: 0.0875 - accuracy: 0.9742 - val_loss: 0.3413 - val_accuracy: 0.8833\n",
            "Epoch 8/20\n",
            "30/30 [==============================] - 8s 269ms/step - loss: 0.0855 - accuracy: 0.9783 - val_loss: 0.3203 - val_accuracy: 0.8835\n",
            "Epoch 9/20\n",
            "30/30 [==============================] - 6s 216ms/step - loss: 0.0175 - accuracy: 0.9981 - val_loss: 0.4211 - val_accuracy: 0.8820\n",
            "Epoch 10/20\n",
            "30/30 [==============================] - 8s 270ms/step - loss: 0.0854 - accuracy: 0.9815 - val_loss: 0.3835 - val_accuracy: 0.8832\n",
            "Epoch 11/20\n",
            "30/30 [==============================] - 6s 217ms/step - loss: 0.0067 - accuracy: 0.9996 - val_loss: 0.4791 - val_accuracy: 0.8813\n",
            "Epoch 12/20\n",
            "30/30 [==============================] - 8s 268ms/step - loss: 0.0905 - accuracy: 0.9821 - val_loss: 0.4453 - val_accuracy: 0.8756\n",
            "Epoch 13/20\n",
            "30/30 [==============================] - 7s 220ms/step - loss: 0.0052 - accuracy: 1.0000 - val_loss: 0.4837 - val_accuracy: 0.8831\n",
            "Epoch 14/20\n",
            "30/30 [==============================] - 8s 266ms/step - loss: 0.0019 - accuracy: 1.0000 - val_loss: 0.5568 - val_accuracy: 0.8828\n",
            "Epoch 15/20\n",
            "30/30 [==============================] - 8s 254ms/step - loss: 0.0011 - accuracy: 1.0000 - val_loss: 0.6424 - val_accuracy: 0.8799\n",
            "Epoch 16/20\n",
            "30/30 [==============================] - 7s 238ms/step - loss: 0.0977 - accuracy: 0.9817 - val_loss: 0.5009 - val_accuracy: 0.8814\n",
            "Epoch 17/20\n",
            "30/30 [==============================] - 8s 258ms/step - loss: 0.0014 - accuracy: 1.0000 - val_loss: 0.5700 - val_accuracy: 0.8826\n",
            "Epoch 18/20\n",
            "30/30 [==============================] - 7s 229ms/step - loss: 7.0944e-04 - accuracy: 1.0000 - val_loss: 0.6278 - val_accuracy: 0.8827\n",
            "Epoch 19/20\n",
            "30/30 [==============================] - 8s 273ms/step - loss: 4.5686e-04 - accuracy: 1.0000 - val_loss: 0.6686 - val_accuracy: 0.8814\n",
            "Epoch 20/20\n",
            "30/30 [==============================] - 7s 221ms/step - loss: 3.2407e-04 - accuracy: 1.0000 - val_loss: 0.6955 - val_accuracy: 0.8829\n"
          ]
        }
      ]
    },
    {
      "cell_type": "code",
      "source": [
        "import matplotlib.pyplot as plt\n",
        "val_loss = history_larger_model.history[\"val_loss\"]\n",
        "epochs = range(1, 21)\n",
        "plt.plot(epochs, val_loss, \"b--\",\n",
        "         label=\"Validation loss\")\n",
        "# plt.title(\"Effect of insufficient model capacity on validation loss\")\n",
        "plt.xlabel(\"Epochs\")\n",
        "plt.ylabel(\"Loss\")\n",
        "plt.legend()"
      ],
      "metadata": {
        "colab": {
          "base_uri": "https://localhost:8080/",
          "height": 297
        },
        "id": "XqhQCt14BGkA",
        "outputId": "1e8a19bb-0bfe-4bca-c2e8-aa3f730e67d1"
      },
      "execution_count": 46,
      "outputs": [
        {
          "output_type": "execute_result",
          "data": {
            "text/plain": [
              "<matplotlib.legend.Legend at 0x7f9acf5138e0>"
            ]
          },
          "metadata": {},
          "execution_count": 46
        },
        {
          "output_type": "display_data",
          "data": {
            "text/plain": [
              "<Figure size 432x288 with 1 Axes>"
            ],
            "image/png": "[encoded data removed]"
          },
          "metadata": {
            "needs_background": "light"
          }
        }
      ]
    },
    {
      "cell_type": "markdown",
      "source": [
        "Listing 5.13 Adding L2 weight regularization to the model"
      ],
      "metadata": {
        "id": "5KD0APNHAK_j"
      }
    },
    {
      "cell_type": "code",
      "source": [
        "from tensorflow.keras import regularizers\n",
        "model = keras.Sequential([\n",
        "    layers.Dense(16,\n",
        "                 kernel_regularizer=regularizers.l2(0.002),\n",
        "                 activation=\"relu\"),\n",
        "    layers.Dense(16,\n",
        "                 kernel_regularizer=regularizers.l2(0.002),\n",
        "                 activation=\"relu\"),\n",
        "    layers.Dense(1, activation=\"sigmoid\")\n",
        "])\n",
        "model.compile(optimizer=\"rmsprop\",\n",
        "              loss=\"binary_crossentropy\",\n",
        "              metrics=[\"accuracy\"])\n",
        "history_l2_reg = model.fit(\n",
        "    train_data, train_labels,\n",
        "    epochs=20, batch_size=512, validation_split=0.4)"
      ],
      "metadata": {
        "colab": {
          "base_uri": "https://localhost:8080/"
        },
        "id": "F7RbfENwALnZ",
        "outputId": "cc3ada15-d4bc-4a3d-b41a-4af1d257988f"
      },
      "execution_count": 47,
      "outputs": [
        {
          "output_type": "stream",
          "name": "stdout",
          "text": [
            "Epoch 1/20\n",
            "30/30 [==============================] - 2s 37ms/step - loss: 0.6328 - accuracy: 0.7673 - val_loss: 0.5028 - val_accuracy: 0.8656\n",
            "Epoch 2/20\n",
            "30/30 [==============================] - 1s 21ms/step - loss: 0.4355 - accuracy: 0.8842 - val_loss: 0.4076 - val_accuracy: 0.8805\n",
            "Epoch 3/20\n",
            "30/30 [==============================] - 1s 22ms/step - loss: 0.3580 - accuracy: 0.9040 - val_loss: 0.3985 - val_accuracy: 0.8724\n",
            "Epoch 4/20\n",
            "30/30 [==============================] - 1s 29ms/step - loss: 0.3178 - accuracy: 0.9169 - val_loss: 0.3638 - val_accuracy: 0.8877\n",
            "Epoch 5/20\n",
            "30/30 [==============================] - 1s 38ms/step - loss: 0.2931 - accuracy: 0.9264 - val_loss: 0.3819 - val_accuracy: 0.8753\n",
            "Epoch 6/20\n",
            "30/30 [==============================] - 1s 34ms/step - loss: 0.2781 - accuracy: 0.9327 - val_loss: 0.3766 - val_accuracy: 0.8779\n",
            "Epoch 7/20\n",
            "30/30 [==============================] - 1s 40ms/step - loss: 0.2676 - accuracy: 0.9365 - val_loss: 0.3691 - val_accuracy: 0.8846\n",
            "Epoch 8/20\n",
            "30/30 [==============================] - 1s 29ms/step - loss: 0.2608 - accuracy: 0.9399 - val_loss: 0.3728 - val_accuracy: 0.8825\n",
            "Epoch 9/20\n",
            "30/30 [==============================] - 1s 23ms/step - loss: 0.2515 - accuracy: 0.9435 - val_loss: 0.3936 - val_accuracy: 0.8761\n",
            "Epoch 10/20\n",
            "30/30 [==============================] - 1s 28ms/step - loss: 0.2425 - accuracy: 0.9482 - val_loss: 0.3942 - val_accuracy: 0.8772\n",
            "Epoch 11/20\n",
            "30/30 [==============================] - 1s 22ms/step - loss: 0.2434 - accuracy: 0.9461 - val_loss: 0.3838 - val_accuracy: 0.8780\n",
            "Epoch 12/20\n",
            "30/30 [==============================] - 1s 23ms/step - loss: 0.2337 - accuracy: 0.9513 - val_loss: 0.3967 - val_accuracy: 0.8763\n",
            "Epoch 13/20\n",
            "30/30 [==============================] - 1s 23ms/step - loss: 0.2274 - accuracy: 0.9515 - val_loss: 0.4119 - val_accuracy: 0.8747\n",
            "Epoch 14/20\n",
            "30/30 [==============================] - 1s 21ms/step - loss: 0.2273 - accuracy: 0.9530 - val_loss: 0.3912 - val_accuracy: 0.8796\n",
            "Epoch 15/20\n",
            "30/30 [==============================] - 1s 22ms/step - loss: 0.2285 - accuracy: 0.9519 - val_loss: 0.3988 - val_accuracy: 0.8787\n",
            "Epoch 16/20\n",
            "30/30 [==============================] - 1s 22ms/step - loss: 0.2209 - accuracy: 0.9549 - val_loss: 0.3973 - val_accuracy: 0.8792\n",
            "Epoch 17/20\n",
            "30/30 [==============================] - 1s 21ms/step - loss: 0.2149 - accuracy: 0.9591 - val_loss: 0.4297 - val_accuracy: 0.8715\n",
            "Epoch 18/20\n",
            "30/30 [==============================] - 1s 22ms/step - loss: 0.2161 - accuracy: 0.9558 - val_loss: 0.4028 - val_accuracy: 0.8790\n",
            "Epoch 19/20\n",
            "30/30 [==============================] - 1s 22ms/step - loss: 0.2158 - accuracy: 0.9558 - val_loss: 0.4477 - val_accuracy: 0.8673\n",
            "Epoch 20/20\n",
            "30/30 [==============================] - 1s 21ms/step - loss: 0.2115 - accuracy: 0.9580 - val_loss: 0.4270 - val_accuracy: 0.8702\n"
          ]
        }
      ]
    },
    {
      "cell_type": "code",
      "source": [
        "import matplotlib.pyplot as plt\n",
        "val_loss = history_l2_reg.history[\"val_loss\"]\n",
        "epochs = range(1, 21)\n",
        "plt.plot(epochs, val_loss, \"b--\",\n",
        "         label=\"Validation loss\")\n",
        "# plt.title(\"Effect of insufficient model capacity on validation loss\")\n",
        "plt.xlabel(\"Epochs\")\n",
        "plt.ylabel(\"Loss\")\n",
        "plt.legend()"
      ],
      "metadata": {
        "colab": {
          "base_uri": "https://localhost:8080/",
          "height": 297
        },
        "id": "e5sMEKQvBAJo",
        "outputId": "0ae7cb36-465a-42ab-a6f6-f0976aa65947"
      },
      "execution_count": 48,
      "outputs": [
        {
          "output_type": "execute_result",
          "data": {
            "text/plain": [
              "<matplotlib.legend.Legend at 0x7f9a632465b0>"
            ]
          },
          "metadata": {},
          "execution_count": 48
        },
        {
          "output_type": "display_data",
          "data": {
            "text/plain": [
              "<Figure size 432x288 with 1 Axes>"
            ],
            "image/png": "[encoded data removed]"
          },
          "metadata": {
            "needs_background": "light"
          }
        }
      ]
    },
    {
      "cell_type": "markdown",
      "source": [
        "Listing 5.14 Different weight regularizers available in Keras"
      ],
      "metadata": {
        "id": "SfuX4_rmAbnn"
      }
    },
    {
      "cell_type": "code",
      "source": [
        "from tensorflow.keras import regularizers\n",
        "regularizers.l1(0.001)                    \n",
        "regularizers.l1_l2(l1=0.001, l2=0.001)"
      ],
      "metadata": {
        "colab": {
          "base_uri": "https://localhost:8080/"
        },
        "id": "_4W1OKBBAcP9",
        "outputId": "dcfb3236-2751-457e-9e2c-df9db0fb173c"
      },
      "execution_count": 49,
      "outputs": [
        {
          "output_type": "execute_result",
          "data": {
            "text/plain": [
              "<keras.regularizers.L1L2 at 0x7f9acfa50dc0>"
            ]
          },
          "metadata": {},
          "execution_count": 49
        }
      ]
    },
    {
      "cell_type": "markdown",
      "source": [
        "Listing 5.15 Adding dropout to the IMDB model"
      ],
      "metadata": {
        "id": "k2yF8z0pAqSJ"
      }
    },
    {
      "cell_type": "code",
      "source": [
        "model = keras.Sequential([\n",
        "    layers.Dense(16, activation=\"relu\"),\n",
        "    layers.Dropout(0.5),\n",
        "    layers.Dense(16, activation=\"relu\"),\n",
        "    layers.Dropout(0.5),\n",
        "    layers.Dense(1, activation=\"sigmoid\")\n",
        "])\n",
        "model.compile(optimizer=\"rmsprop\",\n",
        "              loss=\"binary_crossentropy\",\n",
        "              metrics=[\"accuracy\"])\n",
        "history_dropout = model.fit(\n",
        "    train_data, train_labels,\n",
        "    epochs=20, batch_size=512, validation_split=0.4)"
      ],
      "metadata": {
        "colab": {
          "base_uri": "https://localhost:8080/"
        },
        "id": "sA2O4JyGAjAA",
        "outputId": "8fb743e9-0fa8-4173-c103-a842b135647c"
      },
      "execution_count": 50,
      "outputs": [
        {
          "output_type": "stream",
          "name": "stdout",
          "text": [
            "Epoch 1/20\n",
            "30/30 [==============================] - 2s 37ms/step - loss: 0.6484 - accuracy: 0.6077 - val_loss: 0.5426 - val_accuracy: 0.8359\n",
            "Epoch 2/20\n",
            "30/30 [==============================] - 1s 23ms/step - loss: 0.5300 - accuracy: 0.7441 - val_loss: 0.4305 - val_accuracy: 0.8581\n",
            "Epoch 3/20\n",
            "30/30 [==============================] - 1s 22ms/step - loss: 0.4524 - accuracy: 0.8034 - val_loss: 0.3517 - val_accuracy: 0.8809\n",
            "Epoch 4/20\n",
            "30/30 [==============================] - 1s 21ms/step - loss: 0.3909 - accuracy: 0.8421 - val_loss: 0.3153 - val_accuracy: 0.8841\n",
            "Epoch 5/20\n",
            "30/30 [==============================] - 1s 21ms/step - loss: 0.3403 - accuracy: 0.8674 - val_loss: 0.2965 - val_accuracy: 0.8835\n",
            "Epoch 6/20\n",
            "30/30 [==============================] - 1s 28ms/step - loss: 0.3044 - accuracy: 0.8867 - val_loss: 0.3088 - val_accuracy: 0.8795\n",
            "Epoch 7/20\n",
            "30/30 [==============================] - 1s 22ms/step - loss: 0.2729 - accuracy: 0.9009 - val_loss: 0.2945 - val_accuracy: 0.8852\n",
            "Epoch 8/20\n",
            "30/30 [==============================] - 1s 28ms/step - loss: 0.2448 - accuracy: 0.9134 - val_loss: 0.2785 - val_accuracy: 0.8923\n",
            "Epoch 9/20\n",
            "30/30 [==============================] - 1s 22ms/step - loss: 0.2245 - accuracy: 0.9181 - val_loss: 0.2921 - val_accuracy: 0.8896\n",
            "Epoch 10/20\n",
            "30/30 [==============================] - 1s 22ms/step - loss: 0.2022 - accuracy: 0.9259 - val_loss: 0.2911 - val_accuracy: 0.8889\n",
            "Epoch 11/20\n",
            "30/30 [==============================] - 1s 22ms/step - loss: 0.1836 - accuracy: 0.9363 - val_loss: 0.3099 - val_accuracy: 0.8891\n",
            "Epoch 12/20\n",
            "30/30 [==============================] - 1s 38ms/step - loss: 0.1679 - accuracy: 0.9409 - val_loss: 0.3299 - val_accuracy: 0.8899\n",
            "Epoch 13/20\n",
            "30/30 [==============================] - 1s 38ms/step - loss: 0.1532 - accuracy: 0.9482 - val_loss: 0.3462 - val_accuracy: 0.8908\n",
            "Epoch 14/20\n",
            "30/30 [==============================] - 1s 38ms/step - loss: 0.1404 - accuracy: 0.9493 - val_loss: 0.3616 - val_accuracy: 0.8887\n",
            "Epoch 15/20\n",
            "30/30 [==============================] - 1s 32ms/step - loss: 0.1324 - accuracy: 0.9527 - val_loss: 0.3887 - val_accuracy: 0.8867\n",
            "Epoch 16/20\n",
            "30/30 [==============================] - 1s 22ms/step - loss: 0.1237 - accuracy: 0.9520 - val_loss: 0.4112 - val_accuracy: 0.8894\n",
            "Epoch 17/20\n",
            "30/30 [==============================] - 1s 22ms/step - loss: 0.1125 - accuracy: 0.9602 - val_loss: 0.4306 - val_accuracy: 0.8870\n",
            "Epoch 18/20\n",
            "30/30 [==============================] - 1s 22ms/step - loss: 0.1084 - accuracy: 0.9589 - val_loss: 0.4598 - val_accuracy: 0.8831\n",
            "Epoch 19/20\n",
            "30/30 [==============================] - 1s 23ms/step - loss: 0.1037 - accuracy: 0.9595 - val_loss: 0.4656 - val_accuracy: 0.8841\n",
            "Epoch 20/20\n",
            "30/30 [==============================] - 1s 23ms/step - loss: 0.0988 - accuracy: 0.9624 - val_loss: 0.5559 - val_accuracy: 0.8784\n"
          ]
        }
      ]
    },
    {
      "cell_type": "code",
      "source": [
        "import matplotlib.pyplot as plt\n",
        "val_loss = history_dropout.history[\"val_loss\"]\n",
        "epochs = range(1, 21)\n",
        "plt.plot(epochs, val_loss, \"b--\",\n",
        "         label=\"Validation loss\")\n",
        "# plt.title(\"Effect of insufficient model capacity on validation loss\")\n",
        "plt.xlabel(\"Epochs\")\n",
        "plt.ylabel(\"Loss\")\n",
        "plt.legend()"
      ],
      "metadata": {
        "colab": {
          "base_uri": "https://localhost:8080/",
          "height": 297
        },
        "id": "UePbDHnWA5Z2",
        "outputId": "387f7258-d58e-4f69-cbd8-b6a13734b630"
      },
      "execution_count": 51,
      "outputs": [
        {
          "output_type": "execute_result",
          "data": {
            "text/plain": [
              "<matplotlib.legend.Legend at 0x7f9ac00b6730>"
            ]
          },
          "metadata": {},
          "execution_count": 51
        },
        {
          "output_type": "display_data",
          "data": {
            "text/plain": [
              "<Figure size 432x288 with 1 Axes>"
            ],
            "image/png": "[encoded data removed]"
          },
          "metadata": {
            "needs_background": "light"
          }
        }
      ]
    }
  ]
}